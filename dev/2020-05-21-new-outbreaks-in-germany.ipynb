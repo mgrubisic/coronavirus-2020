{
 "cells": [
  {
   "cell_type": "markdown",
   "metadata": {},
   "source": [
    "# New outbreaks in Germany?"
   ]
  },
  {
   "cell_type": "code",
   "execution_count": null,
   "metadata": {},
   "outputs": [],
   "source": [
    "import oscovida as osc\n",
    "import pandas as pd\n",
    "pd.options.display.max_rows = 100\n",
    "%matplotlib inline\n",
    "%config InlineBackend.figure_formats = ['svg']"
   ]
  },
  {
   "cell_type": "code",
   "execution_count": null,
   "metadata": {},
   "outputs": [],
   "source": [
    "x = osc.fetch_data_germany(include_last_day=True)"
   ]
  },
  {
   "cell_type": "code",
   "execution_count": null,
   "metadata": {},
   "outputs": [],
   "source": [
    "def cumulative_cases(x):\n",
    "    cases_diff = x.groupby(['Landkreis', 'Meldedatum']).agg('sum')['AnzahlFall']\n",
    "    # cases_diff has a multi-index\n",
    "    \n",
    "    # sanity check: what is the total number of cases\n",
    "    total = cases_diff.sum()\n",
    "    \n",
    "    # Turn into table with row index being dates, and Landkreise as Columns\n",
    "    tmp1 = cases_diff.unstack().T\n",
    "    \n",
    "    # compute cumulative sum per Landkreis\n",
    "    tmp2 = tmp1.cumsum()\n",
    "    \n",
    "    # replace NaNs from alignment (data not available for all dates)\n",
    "    tmp3 = tmp2.fillna(method='pad')\n",
    "    \n",
    "    # We may have some NaNs left for the earliest dates. Replace by zeros\n",
    "    tmp4 = tmp3.fillna(value=0)\n",
    "    \n",
    "    # Compute sum again. As we have cumulative numbers, we only take the last row:\n",
    "    total2 = tmp4.iloc[-1, :].sum()\n",
    "\n",
    "    diff = abs(total - total2)\n",
    "    if diff > 0:\n",
    "        print(\"diff=\", diff)\n",
    "    assert diff == 0\n",
    "    \n",
    "    # make index a proper datetime object\n",
    "    tmp4.index = pd.to_datetime(tmp4.index)\n",
    "    \n",
    "    return tmp4"
   ]
  },
  {
   "cell_type": "code",
   "execution_count": null,
   "metadata": {},
   "outputs": [],
   "source": [
    "y = cumulative_cases(x)"
   ]
  },
  {
   "cell_type": "code",
   "execution_count": null,
   "metadata": {},
   "outputs": [],
   "source": [
    "#y"
   ]
  },
  {
   "cell_type": "code",
   "execution_count": null,
   "metadata": {},
   "outputs": [],
   "source": [
    "y.diff().iloc[-1,:].sum()"
   ]
  },
  {
   "cell_type": "code",
   "execution_count": null,
   "metadata": {},
   "outputs": [],
   "source": [
    "def get_7_day_averages(y):\n",
    "    y = y.copy()\n",
    "    total = y.iloc[-1,:].sum()\n",
    "    print(total)\n",
    "    diffs = y.diff()\n",
    "    print(diffs.sum().sum())\n",
    "    # diffs2 = diffs.rolling(7, center=True).mean()\n",
    "    diffs2 = diffs\n",
    "    diffs2 = diffs.rolling(7, center=True).mean()\n",
    "    # This introduced new NaNs at the beginning and end. Get rid of those\n",
    "    len1 = len(diffs2)\n",
    "    diffs2.dropna(inplace=True)\n",
    "    len2 = len(diffs2)\n",
    "    assert len1 - len2 == 7\n",
    "    print(diffs2.sum().sum())\n",
    "\n",
    "    # sample every 7 days, but start from most recent data\n",
    "    data = diffs2\n",
    "    print(data.sum().sum())\n",
    "    end_time = data.index[-1]\n",
    "    data['time to end'] = end_time - data.index\n",
    "    data['Meldedatum'] = data.index\n",
    "    data.set_index('time to end', inplace=True)\n",
    "    print(data.sum().sum())\n",
    "\n",
    "    data2 = data.resample('1D').asfreq() # Or your function\n",
    "    # data2 = data\n",
    "    print(data2.sum().sum()*1)\n",
    "\n",
    "    data2['datetime'] = end_time - data2.index\n",
    "    data2.set_index('datetime', inplace=True)\n",
    "    \n",
    "    return data2"
   ]
  },
  {
   "cell_type": "code",
   "execution_count": null,
   "metadata": {},
   "outputs": [],
   "source": [
    "z = get_7_day_averages(y)\n",
    "z.drop(columns='Meldedatum', inplace=True)"
   ]
  },
  {
   "cell_type": "code",
   "execution_count": null,
   "metadata": {},
   "outputs": [],
   "source": [
    "z.iloc[1,:].index"
   ]
  },
  {
   "cell_type": "code",
   "execution_count": null,
   "metadata": {},
   "outputs": [],
   "source": [
    "df.drop('Meldedatum', inplace=True)"
   ]
  },
  {
   "cell_type": "code",
   "execution_count": null,
   "metadata": {},
   "outputs": [],
   "source": [
    "df = pd.DataFrame()\n",
    "df['last week'] = z.iloc[0, :]\n",
    "# df['prev weeks'] = z.iloc[1:3].mean()\n",
    "df['prev weeks'] = z.iloc[1, :]"
   ]
  },
  {
   "cell_type": "code",
   "execution_count": null,
   "metadata": {},
   "outputs": [],
   "source": [
    "df['growth'] = df['last week'] / df['prev weeks']"
   ]
  },
  {
   "cell_type": "code",
   "execution_count": null,
   "metadata": {},
   "outputs": [],
   "source": [
    "df"
   ]
  },
  {
   "cell_type": "code",
   "execution_count": null,
   "metadata": {},
   "outputs": [],
   "source": [
    "df.sort_values(by='last week', ascending=False).head(40)"
   ]
  },
  {
   "cell_type": "code",
   "execution_count": null,
   "metadata": {},
   "outputs": [],
   "source": [
    "df.loc[\"LK Rhein-Sieg-Kreis\"]"
   ]
  },
  {
   "cell_type": "code",
   "execution_count": null,
   "metadata": {},
   "outputs": [],
   "source": [
    "df.sort_values(by='growth', ascending=False).head(40)"
   ]
  },
  {
   "cell_type": "code",
   "execution_count": null,
   "metadata": {},
   "outputs": [],
   "source": [
    "df2 = df.drop(df[df['last week'] < 2].index)"
   ]
  },
  {
   "cell_type": "code",
   "execution_count": null,
   "metadata": {},
   "outputs": [],
   "source": [
    "df2.shape"
   ]
  },
  {
   "cell_type": "code",
   "execution_count": null,
   "metadata": {},
   "outputs": [],
   "source": [
    "df.shape"
   ]
  },
  {
   "cell_type": "code",
   "execution_count": null,
   "metadata": {},
   "outputs": [],
   "source": [
    "df2.sort_values(by='growth', ascending=False).head(40)"
   ]
  },
  {
   "cell_type": "code",
   "execution_count": null,
   "metadata": {},
   "outputs": [],
   "source": [
    "!pwd"
   ]
  },
  {
   "cell_type": "code",
   "execution_count": null,
   "metadata": {},
   "outputs": [],
   "source": []
  }
 ],
 "metadata": {
  "kernelspec": {
   "display_name": "Python 3",
   "language": "python",
   "name": "python3"
  },
  "language_info": {
   "codemirror_mode": {
    "name": "ipython",
    "version": 3
   },
   "file_extension": ".py",
   "mimetype": "text/x-python",
   "name": "python",
   "nbconvert_exporter": "python",
   "pygments_lexer": "ipython3",
   "version": "3.7.6"
  }
 },
 "nbformat": 4,
 "nbformat_minor": 4
}
