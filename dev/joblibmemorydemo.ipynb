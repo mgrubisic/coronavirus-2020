{
 "cells": [
  {
   "cell_type": "code",
   "execution_count": 3,
   "metadata": {},
   "outputs": [
    {
     "name": "stdout",
     "output_type": "stream",
     "text": [
      "\n",
      "The function took 5.01 s to compute.\n",
      "\n",
      "The transformed data are:\n",
      " i\n"
     ]
    }
   ],
   "source": [
    "import time\n",
    "from joblib import Memory\n",
    "location = './cachedir'\n",
    "memory = Memory(location, verbose=0)\n",
    "\n",
    "\n",
    "def costly_compute_cached(data, column_index=0):\n",
    "    \"\"\"Simulate an expensive computation\"\"\"\n",
    "    time.sleep(5)\n",
    "    return data[column_index]\n",
    "\n",
    "\n",
    "costly_compute_cached = memory.cache(costly_compute_cached)\n",
    "start = time.time()\n",
    "data = \"input-url\"\n",
    "data_trans = costly_compute_cached(data)\n",
    "end = time.time()\n",
    "\n",
    "print('\\nThe function took {:.2f} s to compute.'.format(end - start))\n",
    "\n",
    "print('\\nThe transformed data are:\\n {}'.format(data_trans))"
   ]
  },
  {
   "cell_type": "code",
   "execution_count": 2,
   "metadata": {},
   "outputs": [
    {
     "name": "stderr",
     "output_type": "stream",
     "text": [
      "WARNING:root:[Memory(location=./cachedir/joblib)]: Flushing completely the cache\n"
     ]
    }
   ],
   "source": [
    "import time\n",
    "from joblib import Memory\n",
    "location = './cachedir'\n",
    "memory = Memory(location, verbose=0)\n",
    "memory.clear()\n"
   ]
  },
  {
   "cell_type": "code",
   "execution_count": 4,
   "metadata": {},
   "outputs": [],
   "source": [
    "## Rewrite with decorator"
   ]
  },
  {
   "cell_type": "code",
   "execution_count": 7,
   "metadata": {},
   "outputs": [
    {
     "name": "stdout",
     "output_type": "stream",
     "text": [
      "\n",
      "The function took 0.00 s to compute.\n",
      "\n",
      "The transformed data are:\n",
      " i\n"
     ]
    }
   ],
   "source": [
    "import time\n",
    "from joblib import Memory\n",
    "location = './cachedir'\n",
    "memory = Memory(location, verbose=0)\n",
    "\n",
    "@memory.cache\n",
    "def costly_compute_cached(data, column_index=0):\n",
    "    \"\"\"Simulate an expensive computation\"\"\"\n",
    "    time.sleep(5)\n",
    "    return data[column_index]\n",
    "\n",
    "\n",
    "#costly_compute_cached = memory.cache(costly_compute_cached)\n",
    "start = time.time()\n",
    "data = \"input-url\"\n",
    "data_trans = costly_compute_cached(data)\n",
    "end = time.time()\n",
    "\n",
    "print('\\nThe function took {:.2f} s to compute.'.format(end - start))\n",
    "\n",
    "print('\\nThe transformed data are:\\n {}'.format(data_trans))\n"
   ]
  },
  {
   "cell_type": "code",
   "execution_count": null,
   "metadata": {},
   "outputs": [],
   "source": []
  }
 ],
 "metadata": {
  "kernelspec": {
   "display_name": "Python 3",
   "language": "python",
   "name": "python3"
  },
  "language_info": {
   "codemirror_mode": {
    "name": "ipython",
    "version": 3
   },
   "file_extension": ".py",
   "mimetype": "text/x-python",
   "name": "python",
   "nbconvert_exporter": "python",
   "pygments_lexer": "ipython3",
   "version": "3.7.4"
  }
 },
 "nbformat": 4,
 "nbformat_minor": 2
}
