{
 "cells": [
  {
   "cell_type": "code",
   "execution_count": null,
   "metadata": {},
   "outputs": [],
   "source": [
    "%matplotlib inline\n",
    "%config InlineBackend.figure_formats = ['svg']\n",
    "import oscovida as cv\n",
    "import matplotlib.pyplot as plt\n",
    "import numpy as np\n",
    "import pandas as pd"
   ]
  },
  {
   "cell_type": "markdown",
   "metadata": {},
   "source": [
    "# 13 April 2020\n",
    "\n",
    "- Some plots look a little suspicous /  misleading\n",
    "- lots of noise\n",
    "- code base could do with refactoring\n",
    "- explore that here"
   ]
  },
  {
   "cell_type": "markdown",
   "metadata": {},
   "source": [
    "Get some test data"
   ]
  },
  {
   "cell_type": "code",
   "execution_count": null,
   "metadata": {},
   "outputs": [],
   "source": [
    "import importlib\n",
    "importlib.reload(cv)"
   ]
  },
  {
   "cell_type": "code",
   "execution_count": null,
   "metadata": {},
   "outputs": [],
   "source": [
    "country = \"Germany\"\n",
    "region, subregion = None, \"LK Leer\"\n",
    "c, d, label = cv.get_country_data(country, region=region, subregion=subregion, verbose=True)\n",
    "\n",
    "if False:\n",
    "    c2 = c.drop(c[c.index > '2020-02-15'].index)\n",
    "    d2 = d.drop(d[d.index > '2020-02-15'].index)\n",
    "    # c2.loc['2020-04-01'] =  np.nan # c2.loc['2020-03-31']\n",
    "    c2 = c2.dropna()\n",
    "else:\n",
    "    c2 = c\n",
    "    d2 = d\n",
    "\n"
   ]
  },
  {
   "cell_type": "code",
   "execution_count": null,
   "metadata": {},
   "outputs": [],
   "source": [
    "cv.overview(country=country, subregion=subregion);"
   ]
  },
  {
   "cell_type": "code",
   "execution_count": null,
   "metadata": {},
   "outputs": [],
   "source": [
    "cv.overview(country=\"Germany\", subregion=\"LK Pinneberg\");"
   ]
  },
  {
   "cell_type": "code",
   "execution_count": null,
   "metadata": {},
   "outputs": [],
   "source": [
    "cv.overview(country=\"New Zealand\");"
   ]
  },
  {
   "cell_type": "code",
   "execution_count": null,
   "metadata": {},
   "outputs": [],
   "source": [
    "fig, axes = plt.subplots(2, 1, figsize=(10, 5), sharex=False)\n",
    "ax = axes[0]\n",
    "# ax.set_ylim([-50, 200])\n",
    "cv.plot_daily_change(ax=ax, series=c2, color=\"C1\");\n",
    "ax = axes[1]\n",
    "\n",
    "cv.plot_daily_change(ax=ax, series=d2, color=\"C0\")"
   ]
  },
  {
   "cell_type": "code",
   "execution_count": null,
   "metadata": {},
   "outputs": [],
   "source": []
  },
  {
   "cell_type": "code",
   "execution_count": null,
   "metadata": {},
   "outputs": [],
   "source": [
    "fig, axes = plt.subplots(2, 1, figsize=(10, 5), sharex=False)\n",
    "ax = axes[0]\n",
    "cv.plot_reproduction_number(ax=ax, series=c2, labels=(\"LK Leer\", \"cases\"), color_g=\"C1\", color_R='C5');\n",
    "ax = axes[1]\n",
    "cv.plot_reproduction_number(ax=ax, series=d2, color_g=\"C0\", labels=(\"LK Leer\", \"deaths\"));"
   ]
  },
  {
   "cell_type": "code",
   "execution_count": null,
   "metadata": {},
   "outputs": [],
   "source": [
    "fig, axes = plt.subplots(2, 1, figsize=(10, 5), sharex=False)\n",
    "ax = axes[0]\n",
    "# ax.set_ylim([-50, 200])\n",
    "\n",
    "c2, d2, _ = cv.get_country_data(\"Germany\", subregion=\"LK Leer\")\n",
    "cv.plot_daily_change(ax=ax, series=c2, color=\"C1\")\n",
    "ax = axes[1]\n",
    "\n",
    "cv.plot_daily_change(ax=ax, series=d2, color=\"C0\")"
   ]
  },
  {
   "cell_type": "code",
   "execution_count": null,
   "metadata": {},
   "outputs": [],
   "source": [
    "country = \"Laos\"\n",
    "region, subregion = None, None\n",
    "c, d, _ = cv.get_country_data(country, region=region, subregion=subregion)\n",
    "c2 = c.drop(c[c.index < '2020-03-15'].index)\n",
    "d2 = d.drop(d[d.index < '2020-03-15'].index)\n",
    "c2.loc['2020-04-01'] =  np.nan # c2.loc['2020-03-31']\n",
    "c2 = c2.dropna()\n",
    "\n",
    "c2 = c.drop(c[c.index < '2020-03-15'].index)\n",
    "d2 = d.drop(d[d.index < '2020-03-15'].index)\n"
   ]
  },
  {
   "cell_type": "code",
   "execution_count": null,
   "metadata": {},
   "outputs": [],
   "source": [
    "def overview_dev(country, region=None, subregion=None, savefig=False):\n",
    "\n",
    "    c, d = cv.get_country_data(country, region=region, subregion=subregion)\n",
    "\n",
    "    fig, axes = plt.subplots(5, 1, figsize=(10, 12), sharex=False)\n",
    "    ax = axes[0]\n",
    "    plot_time_step(ax=ax, series=c, style=\"-C1\")\n",
    "    plot_time_step(ax=ax, series=d, style=\"-C0\")\n",
    "\n",
    "    ax = axes[1]\n",
    "    plot_daily_change(ax=ax, series=c, color=\"C1\")\n",
    "    if country == \"China\":\n",
    "        ax.set_ylim(0, 5000)\n",
    "\n",
    "    ax = axes[2]\n",
    "    plot_daily_change(ax=ax, series=d, color=\"C0\")\n",
    "\n",
    "    ax = axes[3]\n",
    "    plot_growth_factor(ax, series=d, color=\"C0\")\n",
    "    plot_growth_factor(ax, series=c, color=\"C1\")\n",
    "\n",
    "    ax = axes[4]\n",
    "    plot_doubling_time(ax, series=d, color=\"C0\")\n",
    "    plot_doubling_time(ax, series=c, color=\"C1\")\n",
    "\n",
    "    # enforce same x-axis on all plots\n",
    "    for i in range(1, 5):\n",
    "        axes[i].set_xlim(axes[0].get_xlim())\n",
    "    for i in range(0, 5):\n",
    "        axes[i].tick_params(left=True, right=True, labelleft=True, labelright=True)\n",
    "        axes[i].yaxis.set_ticks_position('both')\n"
   ]
  },
  {
   "cell_type": "code",
   "execution_count": null,
   "metadata": {
    "scrolled": false
   },
   "outputs": [],
   "source": [
    "cv.overview('Laos');"
   ]
  },
  {
   "cell_type": "code",
   "execution_count": null,
   "metadata": {},
   "outputs": [],
   "source": [
    "max([0, np.nan])"
   ]
  },
  {
   "cell_type": "code",
   "execution_count": null,
   "metadata": {},
   "outputs": [],
   "source": [
    "#country = \"Germany\"\n",
    "country = \"China\"\n",
    "country = \"Austria\"\n",
    "country = \"United Kingdom\"\n",
    "country = \"Laos\"\n",
    "region, subregion = None, None\n",
    "c, d, _ = cv.get_country_data(country, region=region, subregion=subregion)\n",
    "if False:\n",
    "    c2 = c.drop(c[c.index > '2020-03-15'].index)\n",
    "    d2 = d.drop(d[d.index > '2020-03-15'].index)\n",
    "    # c2.loc['2020-04-01'] =  np.nan # c2.loc['2020-03-31']\n",
    "    c2 = c2.dropna()\n",
    "else:\n",
    "    c2 = c\n",
    "    d2 = d\n"
   ]
  },
  {
   "cell_type": "code",
   "execution_count": null,
   "metadata": {},
   "outputs": [],
   "source": []
  },
  {
   "cell_type": "code",
   "execution_count": null,
   "metadata": {},
   "outputs": [],
   "source": [
    "fig, ax = plt.subplots()\n",
    "cv.plot_doubling_time(ax, c2, 'C0', labels=(country, \"cases\"))"
   ]
  },
  {
   "cell_type": "code",
   "execution_count": null,
   "metadata": {
    "scrolled": false
   },
   "outputs": [],
   "source": [
    "fig, axes = plt.subplots(2, 1, figsize=(10, 5), sharex=False)\n",
    "ax = axes[0]\n",
    "cv.plot_doubling_time(ax=ax, series=c2, color=\"C1\", minchange=0.5);\n",
    "#ax.set_ylim([0, 8])\n",
    "\n",
    "ax = axes[1]\n",
    "cv.plot_doubling_time(ax=ax, series=d2, color=\"C0\");\n",
    "#ax.set_ylim([0, 100])"
   ]
  },
  {
   "cell_type": "code",
   "execution_count": null,
   "metadata": {},
   "outputs": [],
   "source": [
    "series = c2\n",
    "(f, f_label) , (f_smoothed, smoothed_label) = cv.compute_growth_factor(series)\n",
    "\n",
    "q = series.diff().pct_change() + 1\n",
    "fig, axes = plt.subplots(2, 1, figsize=(10, 5), sharex=False)\n",
    "ax = axes[0]\n",
    "ax.plot(f.index, f.values, \".\", color=\"C1\", );\n",
    "qsmooth = q.rolling(7, min_periods=1).mean()\n",
    "ax.plot(qsmooth.index, qsmooth.values, \"+\", color=\"C0\");\n",
    "ax.set_ylim([0.8, 1.2])\n",
    "\n",
    "\n",
    "ax = axes[1]\n",
    "#plot_doubling_time(ax=ax, series=c2, color=\"C1\");\n",
    "dtime = cv.double_time_exponential(q, t2_minus_t1=1)\n",
    "dtime_smooth = cv.double_time_exponential(qsmooth, t2_minus_t1=1)\n",
    "ax.plot(dtime.index, dtime.values, 'x', label='raw data')\n",
    "ax.plot(dtime_smooth.index, dtime_smooth.values, '-', label='smooth growth factor')\n",
    "ax.set_ylim([0, 20])"
   ]
  },
  {
   "cell_type": "code",
   "execution_count": null,
   "metadata": {},
   "outputs": [],
   "source": [
    "# series.pct_change?"
   ]
  },
  {
   "cell_type": "markdown",
   "metadata": {},
   "source": [
    "# Playground to explore different smoothing options"
   ]
  },
  {
   "cell_type": "code",
   "execution_count": null,
   "metadata": {},
   "outputs": [],
   "source": [
    "def compute_R_dev(daily_change, tau=4):\n",
    "    \"\"\"Given a time series s, estimate R based on description from RKI [1].\n",
    "\n",
    "    [1] [Robert Koch Institute: Epidemiologisches Bulletin 17 | 2020 23. April 2020]\n",
    "    https://www.rki.de/DE/Content/Infekt/EpidBull/Archiv/2020/Ausgaben/17_20.html\n",
    "\n",
    "    Steps:\n",
    "\n",
    "    1. Compute change from day to day\n",
    "    2. Take tau-day averages (tau=4 is recommended as of April/May 2020)\n",
    "    3. divide average from days 4 to 7 by averages from day 0 to 3, and use this data point for day[7]\n",
    "\n",
    "    \"\"\"\n",
    "    # change = s.diff()\n",
    "    change = daily_change\n",
    "    mean4d = change.rolling(tau).mean()\n",
    "    R = mean4d / mean4d.shift(tau)\n",
    "    R2 = R.shift(-tau)  # this is not the RKI method, but seems more appropriate:\n",
    "                        # we centre the reported value between the 2-intervals of length tau\n",
    "                        # that have been used to compute it.\n",
    "    # R2[(mean4d.shift(tau).abs() <= 0.01) & (mean4d.abs() <= 0.01)] = 1.1\n",
    "\n",
    "    return R2"
   ]
  },
  {
   "cell_type": "code",
   "execution_count": null,
   "metadata": {},
   "outputs": [],
   "source": [
    "\n",
    "\n",
    "fig, axes = plt.subplots(2, 1, figsize=(10, 5), sharex=False)\n",
    "ax = axes[0]\n",
    "ax2 = axes[1]\n",
    "n = 81\n",
    "index = pd.date_range(start='1/1/2018', end='5/08/2018')[0:n]\n",
    "x = np.linspace(-5, 15, n)\n",
    "x0 = 0\n",
    "sigma = 2\n",
    "data = np.exp(-(x-x0)**2/sigma**2)*5 + (np.random.uniform(size=n) - 0.5) * 0.5 * 0 \n",
    "\n",
    "s = pd.Series(data=data, index=index)\n",
    "\n",
    "# s.iloc[n//2+2] = np.nan\n",
    "\n",
    "# s.iloc[n//2-15] = 1\n",
    "\n",
    "ax.bar(s.index, s.values, alpha=0.2, width=0.3)\n",
    "rgauss = s.rolling(7, center=True).mean()\n",
    "rmean = s.rolling(7, center=True, win_type='gaussian', min_periods=1).mean(std=2)\n",
    "rgauss = s.rolling(7, center=True, win_type='gaussian', min_periods=1).mean(std=3)\n",
    "ax.plot(rmean.index, rmean.values, '-', label='box')\n",
    "ax.plot(rgauss.index, rgauss.values, '-', linewidth=4, alpha=0.4, label='gaussian')\n",
    "R1 = compute_R_dev(s, tau=7)\n",
    "ax2.plot(R1.index, R1.values, label='R')\n",
    "ax2.plot(mean4d.index, mean4d.values, 'C5', label='mean4d')\n",
    "ax2.plot(mean4d.index, [1] * len(mean4d), 'C6', label='1.0')\n",
    "\n",
    "#ax2.set_ylim(top=2, bottom=0)"
   ]
  },
  {
   "cell_type": "code",
   "execution_count": null,
   "metadata": {},
   "outputs": [],
   "source": [
    "print(\"s     \", s.sum())\n",
    "print(\"rmean \", rmean.sum())\n",
    "print(\"gaus  \", rgauss.sum())\n"
   ]
  },
  {
   "cell_type": "markdown",
   "metadata": {},
   "source": [
    "# Plot daily change\n"
   ]
  },
  {
   "cell_type": "code",
   "execution_count": null,
   "metadata": {},
   "outputs": [],
   "source": [
    "def compute_daily_change_dev(series):\n",
    "    \"\"\"returns (change, smooth, smooth2)\n",
    "\n",
    "    where 'change' is a tuple of (series, label)\n",
    "    and smooth is a tuple of (series, label).\n",
    "    and smooth2 is a tuple of (series, label).\n",
    "\n",
    "    'change' returns the raw data (with nan's dropped)\n",
    "    'smooth' makes the data smoother\n",
    "    'smooth2' does some additional smoothing - more artistic than scientific\n",
    "\n",
    "    The 'change' under consideration, is the day-to-day change of the series.\n",
    "    We assume that there is one entry per day in the Series.\n",
    "\n",
    "    \"\"\"\n",
    "    diff = series.diff().dropna()\n",
    "    label = \"\"\n",
    "    change = diff, label\n",
    "\n",
    "    # smoothed curve, technical description\n",
    "    smooth_label = f\"Gaussian window (stddev=3 days)\"\n",
    "    # shorter description\n",
    "    smooth_label = f\"(rolling mean)\"\n",
    "    rolling_series = diff.rolling(9, center=True,\n",
    "                                  win_type='gaussian',\n",
    "                                  min_periods=1).mean(std=3)\n",
    "    smooth = rolling_series, smooth_label\n",
    "\n",
    "    # extra smoothing for better visual effects\n",
    "    rolling_series2 = rolling_series.rolling(4, center=True,\n",
    "                                             win_type='gaussian',\n",
    "                                             min_periods=1).mean(std=2)\n",
    "    # extra smooth curve\n",
    "    smooth2_label = \"Smoothed \" + smooth_label\n",
    "    # shorter description\n",
    "    smooth2_label = smooth_label\n",
    "\n",
    "    smooth2 = rolling_series2, smooth2_label\n",
    "\n",
    "    return change, smooth, smooth2\n",
    "\n"
   ]
  },
  {
   "cell_type": "code",
   "execution_count": null,
   "metadata": {},
   "outputs": [],
   "source": [
    "def plot_daily_change_dev(ax, series, color, labels=None):\n",
    "    \"\"\"Given a series of data and matplotlib axis ax, plot the\n",
    "    - difference in the series data from day to day as bars and plot a smooth\n",
    "    - line to show the overall development\n",
    "\n",
    "    - series is pandas.Series with data as index, and cumulative cases (or\n",
    "    deaths)\n",
    "    - color is color to be used for plotting\n",
    "\n",
    "    See plot_time_step for documentation on other parameters.\n",
    "    \"\"\"\n",
    "\n",
    "    bar_alpha = 0.2\n",
    "    if labels is None:\n",
    "        label = \"\"\n",
    "        region = \"\"\n",
    "    else:\n",
    "        region, label = labels\n",
    "\n",
    "    ax_label = region + \" new \" + label\n",
    "\n",
    "    (change, change_label) , (smooth, smooth_label), \\\n",
    "        (smooth2, smooth2_label) = compute_daily_change_dev(series)\n",
    "\n",
    "    ax.bar(change.index, change.values, color=color,\n",
    "           label=ax_label, alpha=bar_alpha, linewidth=cv.LW)\n",
    "\n",
    "    ax.plot(smooth2.index, smooth2.values, color=color,\n",
    "            label=ax_label + \" \" + smooth2_label, linewidth=cv.LW)\n",
    "\n",
    "    ax.legend()\n",
    "    ax.set_ylabel('daily change')\n",
    "\n",
    "    # labels on the right y-axis as well\n",
    "    ax.tick_params(left=True, right=True, labelleft=True, labelright=True)\n",
    "    ax.yaxis.set_ticks_position('both')\n",
    "\n",
    "\n",
    "    # data cleaning: For France, there was a huge spike on 12 April with 26849\n",
    "    # new infections. This sets the scale to be too large.\n",
    "    # There was also a value of ~-2000 on 22 April. We limit the y-scale to correct\n",
    "    # manually for this:\n",
    "    if region == \"France\" and label == \"cases\":\n",
    "        # get current limits\n",
    "        ymin, ymax = ax.get_ylim()\n",
    "        ax.set_ylim([max(-500, ymin), min(10000, ymax)])\n",
    "\n",
    "    return ax\n",
    "\n"
   ]
  },
  {
   "cell_type": "code",
   "execution_count": null,
   "metadata": {},
   "outputs": [],
   "source": [
    "fig, ax = plt.subplots()\n",
    "plot_daily_change_dev(series=c2, color='C1', ax=ax)"
   ]
  },
  {
   "cell_type": "code",
   "execution_count": null,
   "metadata": {},
   "outputs": [],
   "source": [
    "(change, change_label) , (smooth, smooth_label), \\\n",
    "        (smooth2, smooth2_label) = compute_daily_change_dev(c2)"
   ]
  },
  {
   "cell_type": "code",
   "execution_count": null,
   "metadata": {},
   "outputs": [],
   "source": [
    "# data for computation or R\n",
    "smooth_diff = s.diff().rolling(7,\n",
    "                            center=True,\n",
    "                            win_type='gaussian').mean(std=4)\n",
    "R = compute_R_dev(smooth_diff)"
   ]
  },
  {
   "cell_type": "code",
   "execution_count": null,
   "metadata": {},
   "outputs": [],
   "source": [
    "R[-20:]"
   ]
  },
  {
   "cell_type": "code",
   "execution_count": null,
   "metadata": {},
   "outputs": [],
   "source": [
    "smooth_diff"
   ]
  },
  {
   "cell_type": "code",
   "execution_count": null,
   "metadata": {},
   "outputs": [],
   "source": [
    "fig, ax = plt.subplots()\n",
    "ax.plot(smooth_diff.index, smooth_diff.values)\n",
    "# R[abs(R>10000)] = np.nan\n",
    "ax.plot(R.index, R.values, label=\"R\")\n",
    "ax.legend()\n",
    "#ax.set_ylim([0, 2])"
   ]
  },
  {
   "cell_type": "code",
   "execution_count": null,
   "metadata": {},
   "outputs": [],
   "source": []
  },
  {
   "cell_type": "code",
   "execution_count": null,
   "metadata": {},
   "outputs": [],
   "source": []
  }
 ],
 "metadata": {
  "kernelspec": {
   "display_name": "Python 3",
   "language": "python",
   "name": "python3"
  },
  "language_info": {
   "codemirror_mode": {
    "name": "ipython",
    "version": 3
   },
   "file_extension": ".py",
   "mimetype": "text/x-python",
   "name": "python",
   "nbconvert_exporter": "python",
   "pygments_lexer": "ipython3",
   "version": "3.7.6"
  }
 },
 "nbformat": 4,
 "nbformat_minor": 4
}
