{
 "cells": [
  {
   "cell_type": "markdown",
   "metadata": {},
   "source": [
    "# Coronavirus 2020 - effectiveness of measures taken - Germany"
   ]
  },
  {
   "cell_type": "markdown",
   "metadata": {},
   "source": [
    "See http://fangohr.github.io/coronavirus/index-germany.html for the corresponding plots for each Landkreis in Germany."
   ]
  },
  {
   "cell_type": "code",
   "execution_count": null,
   "metadata": {},
   "outputs": [],
   "source": [
    "%config InlineBackend.figure_formats = ['svg']\n",
    "%matplotlib inline\n",
    "# Alternative plotting backend for interative data exploration\n",
    "# %matplotlib notebook\n",
    "\n",
    "from oscovida import overview, fetch_data_germany, germany_get_region\n",
    "\n",
    "# If you want to edit the source in the notebook, try \"%load oscovida.py\" \n",
    "# and comment out the import statement above."
   ]
  },
  {
   "cell_type": "code",
   "execution_count": null,
   "metadata": {
    "scrolled": false
   },
   "outputs": [],
   "source": [
    "overview(\"Germany\");"
   ]
  },
  {
   "cell_type": "markdown",
   "metadata": {},
   "source": [
    "# Hamburg"
   ]
  },
  {
   "cell_type": "code",
   "execution_count": null,
   "metadata": {
    "scrolled": false
   },
   "outputs": [],
   "source": [
    "c, d, axes = overview(\"Germany\", region=\"Hamburg\");"
   ]
  },
  {
   "cell_type": "markdown",
   "metadata": {},
   "source": [
    "# Schleswig Holstein, Pinneberg"
   ]
  },
  {
   "cell_type": "code",
   "execution_count": null,
   "metadata": {},
   "outputs": [],
   "source": [
    "overview(\"Germany\", subregion=\"LK Pinneberg\");"
   ]
  },
  {
   "cell_type": "markdown",
   "metadata": {},
   "source": [
    "# Heinsberg"
   ]
  },
  {
   "cell_type": "code",
   "execution_count": null,
   "metadata": {
    "scrolled": true
   },
   "outputs": [],
   "source": [
    "c, d, axes = overview(\"Germany\", subregion=\"LK Heinsberg\");"
   ]
  },
  {
   "cell_type": "markdown",
   "metadata": {},
   "source": [
    "# All Bundesländer in alphabetical order"
   ]
  },
  {
   "cell_type": "code",
   "execution_count": null,
   "metadata": {},
   "outputs": [],
   "source": [
    "germany = fetch_data_germany()\n",
    "\n",
    "laender = germany['Bundesland'].drop_duplicates().sort_values()\n",
    "\n",
    "for land in laender:\n",
    "    overview('Germany', region=land)"
   ]
  },
  {
   "cell_type": "markdown",
   "metadata": {},
   "source": [
    "- Acknowledgements:\n",
    "  - great tutorials from https://www.youtube.com/channel/UCYO_jab_esuFRV4b17AJtAw\n",
    "  - Open Source and scientific computing community for the data tools, github for hosting repository\n",
    "  - Robert Koch Institute provides data for within Germany\n",
    "  - Johns Hopkins University provides data for countries\n",
    "- If you want to execute this notebook, press SHIFT+RETURN to advance code cell to code cell.\n",
    "- Acknowledgements:\n",
    "  - great tutorials from https://www.youtube.com/channel/UCYO_jab_esuFRV4b17AJtAw\n",
    "  - Open Source and scientific computing community for the data tools, github for hosting repository\n",
    "  - Robert Koch Institute provides data for within Germany\n",
    "  - Johns Hopkins University provides data for countries\n"
   ]
  },
  {
   "cell_type": "code",
   "execution_count": null,
   "metadata": {},
   "outputs": [],
   "source": [
    "import oscovida\n",
    "# download dates, data in Germany\n",
    "print(f\"Download of Johns Hopkins cases at {oscovida.fetch_cases_last_execution()} and \" \n",
    "      f\"deaths at {oscovida.fetch_deaths_last_execution()}.\")\n",
    "print(f\"Download of data from Robert Koch Institute at {oscovida.fetch_data_germany_last_execution()}.\")\n"
   ]
  }
 ],
 "metadata": {
  "anaconda-cloud": {},
  "kernelspec": {
   "display_name": "Python 3",
   "language": "python",
   "name": "python3"
  },
  "language_info": {
   "codemirror_mode": {
    "name": "ipython",
    "version": 3
   },
   "file_extension": ".py",
   "mimetype": "text/x-python",
   "name": "python",
   "nbconvert_exporter": "python",
   "pygments_lexer": "ipython3",
   "version": "3.6.8"
  }
 },
 "nbformat": 4,
 "nbformat_minor": 2
}
